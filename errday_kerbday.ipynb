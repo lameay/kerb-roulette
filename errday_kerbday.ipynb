{
 "cells": [
  {
   "cell_type": "code",
   "execution_count": 1,
   "metadata": {},
   "outputs": [
    {
     "name": "stdout",
     "output_type": "stream",
     "text": [
      "Kerb for the Week:\n",
      "Friday 6th September: The Beefsteaks\n",
      "Monday 9th September: Marli’s Kitchen\n",
      "Tuesday 10th September: Chubby Dumpling\n",
      "Wednesday 11th September: Oshpaz\n",
      "Thursday 12th September: STAKEhaus\n",
      "Friday 13th September: Makatcha\n",
      "Monday 16th September: Ugly Duck\n",
      "Tuesday 17th September: Baba Dhaba\n",
      "Wednesday 18th September: STAKEhaus\n",
      "Thursday 19th September: Mexican Fried Chicken\n",
      "Friday 20th September: Curry On Naanstop\n",
      "Monday 23rd September: Raastawala\n",
      "Tuesday 24th September: Tribeca Deli\n",
      "Wednesday 25th September: Da Fish Ting\n",
      "Thursday 26th September: STAKEhaus\n",
      "Friday 27th September: The Grilling Greek\n",
      "Monday 30th September: Hoshi aka Katsu Wraps\n"
     ]
    }
   ],
   "source": [
    "from bs4 import BeautifulSoup\n",
    "import urllib.request as urllib\n",
    "from scrapy.http import TextResponse\n",
    "import requests\n",
    "\n",
    "# r = urllib.urlopen('https://www.kerbfood.com/markets/west-india-quay/').read()\n",
    "# soup = BeautifulSoup(r)\n",
    "\n",
    "# kerb_req = requests.get('https://www.kerbfood.com/markets/kings-cross/')\n",
    "kerb_req = requests.get('https://www.kerbfood.com/markets/west-india-quay/')\n",
    "response = TextResponse(kerb_req.url, body=kerb_req.text, encoding='utf-8')\n",
    "\n",
    "dates_xpath = response.xpath('//*[@class=\"rsCaption\"]/text()')\n",
    "dates = dates_xpath.getall()\n",
    "\n",
    "import random\n",
    "\n",
    "\n",
    "random_date = random.randint(1, len(dates))\n",
    "random_date\n",
    "\n",
    "print('Kerb for the Week:')\n",
    "kerb_days = 2\n",
    "for date in dates:\n",
    "    daily = response.xpath('//*[@class=\"rsCaption\"][text()=\"{}\"]/following-sibling::div[contains(@class, \"row\")]/div[contains(@class, \"grid-item\")]'.format(date))\n",
    "    daily_traders = daily.xpath('.//span[contains(@class, \"bolder\")]/text()').getall()\n",
    "    daily_random_trader = random.randint(1, len(daily_traders))\n",
    "    print('{}: {}'.format(date, daily_traders[daily_random_trader-1]))"
   ]
  },
  {
   "cell_type": "code",
   "execution_count": null,
   "metadata": {},
   "outputs": [],
   "source": []
  }
 ],
 "metadata": {
  "kernelspec": {
   "display_name": "Python 3",
   "language": "python",
   "name": "python3"
  },
  "language_info": {
   "codemirror_mode": {
    "name": "ipython",
    "version": 3
   },
   "file_extension": ".py",
   "mimetype": "text/x-python",
   "name": "python",
   "nbconvert_exporter": "python",
   "pygments_lexer": "ipython3",
   "version": "3.7.3"
  }
 },
 "nbformat": 4,
 "nbformat_minor": 2
}
